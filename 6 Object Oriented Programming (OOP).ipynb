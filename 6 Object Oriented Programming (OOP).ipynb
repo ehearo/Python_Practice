{
 "cells": [
  {
   "cell_type": "markdown",
   "metadata": {},
   "source": [
    "# 物件導向 (Object Oriented Programming)"
   ]
  },
  {
   "cell_type": "markdown",
   "metadata": {},
   "source": [
    "本章節內容大綱\n",
    "* [Class](#Class)\n",
    "* [Class的功能](#Class的功能(Method))\n",
    "* [Class的繼承](#Class的繼承(Inheritance))"
   ]
  },
  {
   "cell_type": "markdown",
   "metadata": {},
   "source": [
    "## Class"
   ]
  },
  {
   "cell_type": "code",
   "execution_count": null,
   "metadata": {},
   "outputs": [],
   "source": [
    "name1 = \"Andy\"\n",
    "age1 = 25\n",
    "height1 = 180\n",
    "weight1 = 70\n",
    "\n",
    "name2 = \"Betty\"\n",
    "age2 = 24\n",
    "height2 = 157\n",
    "weight2 = 49"
   ]
  },
  {
   "cell_type": "code",
   "execution_count": 8,
   "metadata": {},
   "outputs": [],
   "source": [
    "class person:\n",
    "\n",
    "    def __init__(self, name, age, height, weight): # 初始化，每次宣告一個此 Class 的物件時會呼叫\n",
    "        self.name = name\n",
    "        self.age = age\n",
    "        self.height = height\n",
    "        self.weight = weight\n",
    "\n",
    "    def __repr__(self):  # 設定使用 print 印出此類別的物件時要印出的東西 (回傳字串)\n",
    "        return f'Class Person: {self.name}'"
   ]
  },
  {
   "cell_type": "code",
   "execution_count": 9,
   "metadata": {},
   "outputs": [],
   "source": [
    "p1 = person(\"Andy\", 25, 180, 70)\n",
    "p2 = person(\"Betty\", 24, 157, 49)"
   ]
  },
  {
   "cell_type": "code",
   "execution_count": 18,
   "metadata": {},
   "outputs": [
    {
     "name": "stdout",
     "output_type": "stream",
     "text": [
      "Class Person: Andy\n",
      "Class Person: Betty\n",
      "Andy\n",
      "24\n"
     ]
    }
   ],
   "source": [
    "print(p1)\n",
    "print(p2)\n",
    "\n",
    "print(p1.name)\n",
    "print(p2.age)"
   ]
  },
  {
   "cell_type": "markdown",
   "metadata": {},
   "source": [
    "## Class的功能(Method)"
   ]
  },
  {
   "cell_type": "code",
   "execution_count": 2,
   "metadata": {},
   "outputs": [],
   "source": [
    "class person:\n",
    "\n",
    "    def __init__(self, name, age, height, weight, gender):\n",
    "        self.name = name\n",
    "        self.age = age\n",
    "        self.gender = gender\n",
    "        self.height = height\n",
    "        self.weight = weight\n",
    "        \n",
    "    def __repr__(self):\n",
    "        return f'Class Person: {self.name}'\n",
    "\n",
    "    # 屬於此類別的 function ，稱作 method\n",
    "    def BMI(self):\n",
    "        return round(self.weight / ((self.height/100)**2), 1)"
   ]
  },
  {
   "cell_type": "code",
   "execution_count": 20,
   "metadata": {},
   "outputs": [
    {
     "name": "stdout",
     "output_type": "stream",
     "text": [
      "19.9\n"
     ]
    }
   ],
   "source": [
    "p2 = person(\"Betty\", 24, 157, 49, 'Female')\n",
    "\n",
    "print(p2.BMI())"
   ]
  },
  {
   "cell_type": "markdown",
   "metadata": {},
   "source": [
    "## Class的繼承(Inheritance)"
   ]
  },
  {
   "cell_type": "code",
   "execution_count": 3,
   "metadata": {},
   "outputs": [],
   "source": [
    "class student(person):\n",
    "    \n",
    "    def __init__(self, name, age, height, weight, gender, academy, Id, grades):\n",
    "        super().__init__(name, age, height, weight, gender)\n",
    "        self.academy = academy\n",
    "        self.Id = Id\n",
    "        self.grades = grades\n",
    "    \n",
    "    def __repr__(self):\n",
    "        return f'Student of {self.academy}: {self.name}'\n",
    "    \n",
    "    def GPA(self):\n",
    "        return sum(self.grades)/len(self.grades)\n",
    "    \n",
    "class employee(person):\n",
    "    \n",
    "    def __init__(self, name, age, height, weight, gender, company, Id, salary, bonus):\n",
    "        super().__init__(name, age, height, weight, gender)\n",
    "        self.company = company\n",
    "        self.Id = Id\n",
    "        self.salary = salary\n",
    "        self.bonus = bonus\n",
    "        \n",
    "    def __repr__(self):\n",
    "        return f'Employee of {self.company}: {self.name}'\n",
    "    \n",
    "    def annual_salary(self):\n",
    "        return self.salary * (12 + self.bonus)"
   ]
  },
  {
   "cell_type": "code",
   "execution_count": 6,
   "metadata": {},
   "outputs": [
    {
     "name": "stdout",
     "output_type": "stream",
     "text": [
      "Student of AIAcademy: Betty\n",
      "66.66666666666667\n",
      "19.9\n",
      "Employee of Google: Andy\n",
      "1500000\n",
      "21.6\n"
     ]
    }
   ],
   "source": [
    "A = student(\"Betty\", 24, 157, 49, 'Female', 'AIAcademy', '001', [60, 70, 70])\n",
    "print(A)\n",
    "print(A.GPA())\n",
    "print(A.BMI())\n",
    "\n",
    "B = employee(\"Andy\", 28, 180, 70, 'Male', 'Google', '123654', 100000, 3)\n",
    "print(B)\n",
    "print(B.annual_salary())\n",
    "print(B.BMI())"
   ]
  },
  {
   "cell_type": "code",
   "execution_count": 3,
   "metadata": {},
   "outputs": [],
   "source": [
    "# quiz1: 運用 person 內的一些屬性（性別年齡身高體重）實作 BMR 的計算。\n",
    "\n",
    "# BMR(男)=(13.7×體重(公斤))+(5.0×身高(公分))-(6.8×年齡)+66\n",
    "# BMR(女)=(9.6×體重(公斤))+(1.8×身高(公分))-(4.7×年齡)+655\n",
    "class person:\n",
    "\n",
    "    def __init__(self, name, age, height, weight, gender): \n",
    "        self.name = name\n",
    "        self.age = age\n",
    "        self.gender = gender # 'Male' or 'Female'\n",
    "        self.height = height\n",
    "        self.weight = weight\n",
    "\n",
    "    def __repr__(self):\n",
    "        return f'Class Person: {self.name}'\n",
    "\n",
    "    def BMR(self):\n",
    "        if self.gender == 'Male':\n",
    "            return (13.7*self.weight)+(5.0*self.height)-(6.8*self.age)+66\n",
    "        else:\n",
    "            return (9.6*self.weight)+(1.8*self.height)-(4.7*self.age)+65"
   ]
  },
  {
   "cell_type": "code",
   "execution_count": 5,
   "metadata": {},
   "outputs": [
    {
     "name": "stdout",
     "output_type": "stream",
     "text": [
      "1533.5\n",
      "805.0\n"
     ]
    }
   ],
   "source": [
    "p1 = person('TA', 20, 170, 55, 'Male')\n",
    "p2 = person('TA', 20, 170, 55, 'Female')\n",
    "print(p1.BMR())\n",
    "print(p2.BMR())"
   ]
  },
  {
   "cell_type": "code",
   "execution_count": null,
   "metadata": {},
   "outputs": [],
   "source": [
    "# quiz2: 給定一個正多邊形的父類別，使用繼承分別定出正三角形，正四邊形的子類別。\n",
    "\n",
    "# 並在正三角形類別實作面積與高的 method。\n",
    "# 在正四邊形類別實作面積與對角線長的 method。\n",
    "\n",
    "class polygon: #正多邊形\n",
    "    \n",
    "    def __init__(self, length):\n",
    "        self.lenght = length\n",
    "        \n",
    "    def __repr__(self):\n",
    "        return f'Polygon of length {self.length}'\n",
    "    \n",
    "class triangle(polygon):\n",
    "    \n",
    "    def __init__(self, length):\n",
    "        pass\n",
    "    def __repr__(self):\n",
    "        pass\n",
    "    def area(self):\n",
    "        pass\n",
    "    def height(self):\n",
    "        pass\n",
    "\n",
    "class square(polygon):\n",
    "    \n",
    "    def __init__(self, length):\n",
    "        pass\n",
    "    def __repr__(self):\n",
    "        pass\n",
    "    def area(self):\n",
    "        pass\n",
    "    def diagonal(self):\n",
    "        pass"
   ]
  },
  {
   "cell_type": "code",
   "execution_count": null,
   "metadata": {},
   "outputs": [],
   "source": [
    "# 可以使用此程式驗證你的 class 有沒有撰寫正確\n",
    "\n",
    "tri5 = triangle(10)\n",
    "print(tri5.area())\n",
    "print(tri5.height())\n",
    "\n",
    "sqr7 = square(7)\n",
    "print(sqr7.area())\n",
    "print(sqr7.diagonal())"
   ]
  }
 ],
 "metadata": {
  "kernelspec": {
   "display_name": "Python 3",
   "language": "python",
   "name": "python3"
  },
  "language_info": {
   "codemirror_mode": {
    "name": "ipython",
    "version": 3
   },
   "file_extension": ".py",
   "mimetype": "text/x-python",
   "name": "python",
   "nbconvert_exporter": "python",
   "pygments_lexer": "ipython3",
   "version": "3.7.3"
  }
 },
 "nbformat": 4,
 "nbformat_minor": 4
}
