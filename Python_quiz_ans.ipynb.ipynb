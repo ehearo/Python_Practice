{
 "cells": [
  {
   "cell_type": "markdown",
   "metadata": {},
   "source": [
    "# 1 Input Output and Comment"
   ]
  },
  {
   "cell_type": "markdown",
   "metadata": {},
   "source": [
    "## quiz1:\n",
    "分別使用 input() 輸入你的名字、性別、年齡 <br>\n",
    "並使用三種 print() 分別輸出一段包含這些資料的句子。<br>\n",
    "print(\"\" %())<br>\n",
    "print(\"\").format())<br>\n",
    "print(f'')<br>\n",
    "\n",
    "選一個之後你主要要用來 print 的方式 (推薦 f-string)<br>"
   ]
  },
  {
   "cell_type": "code",
   "execution_count": 1,
   "metadata": {},
   "outputs": [
    {
     "name": "stdin",
     "output_type": "stream",
     "text": [
      "Please enter your name, gender, age: Jacky Man 26\n"
     ]
    }
   ],
   "source": [
    "name, gender, age = input('Please enter your name, gender, age:').split(' ')"
   ]
  },
  {
   "cell_type": "code",
   "execution_count": 2,
   "metadata": {},
   "outputs": [
    {
     "name": "stdout",
     "output_type": "stream",
     "text": [
      "name: Jacky, gender: Man, age: 26\n",
      "name: Jacky, gender: Man, age: 26\n",
      "name: Jacky, gender: Man, age: 26\n"
     ]
    }
   ],
   "source": [
    "print(\"name: %s, gender: %s, age: %s\" % (name, gender, age))\n",
    "print(\"name: {}, gender: {}, age: {}\".format(name, gender, age))\n",
    "print(f\"name: {name}, gender: {gender}, age: {age}\")"
   ]
  },
  {
   "cell_type": "markdown",
   "metadata": {},
   "source": [
    "# 2 Data Type"
   ]
  },
  {
   "cell_type": "markdown",
   "metadata": {},
   "source": [
    "## quiz1:\n",
    "給定字串如下，使用 slicing 取出<br>\n",
    "整數部分<br>\n",
    "字元部分<br>\n",
    "s = '1a2b3c4d5e6f'<br>"
   ]
  },
  {
   "cell_type": "code",
   "execution_count": 3,
   "metadata": {},
   "outputs": [
    {
     "name": "stdout",
     "output_type": "stream",
     "text": [
      "123456\n",
      "abcdef\n"
     ]
    }
   ],
   "source": [
    "s = '1a2b3c4d5e6f'\n",
    "print(s[0::2])\n",
    "print(s[1::2])"
   ]
  },
  {
   "cell_type": "markdown",
   "metadata": {},
   "source": [
    "## quiz2:\n",
    "\n",
    "輸入你的身高 (cm)，以及體重 (kg)<br>\n",
    "計算 BMI 後以兩位小數點的精準度印出 (BMI = 體重(kg) / (身高(m))^2)<br>\n",
    "height = input()<br>\n",
    "weight = input()<br>"
   ]
  },
  {
   "cell_type": "code",
   "execution_count": 4,
   "metadata": {},
   "outputs": [
    {
     "name": "stdin",
     "output_type": "stream",
     "text": [
      "Please enter your height(cm), weight(kg): 178 64\n"
     ]
    },
    {
     "name": "stdout",
     "output_type": "stream",
     "text": [
      "20.20\n"
     ]
    }
   ],
   "source": [
    "\n",
    "height, weight = input('Please enter your height(cm), weight(kg):').split(' ')\n",
    "BMI = int(weight)/(int(height)/100)**2\n",
    "print(f\"{BMI:.2f}\")"
   ]
  },
  {
   "cell_type": "markdown",
   "metadata": {},
   "source": [
    "# 3 Containers"
   ]
  },
  {
   "cell_type": "markdown",
   "metadata": {},
   "source": [
    "## quiz 1\n",
    "\n",
    "宣告一個 list<br>\n",
    "新增 1 筆任意數字<br>\n",
    "新增 5 筆任意數字<br>\n",
    "逆排序<br>\n",
    "刪除 index 為 3的數字<br>\n",
    "在前面新增 5 個任意數字<br>\n",
    "排序<br>\n",
    "轉換成 tuple<br>"
   ]
  },
  {
   "cell_type": "code",
   "execution_count": 5,
   "metadata": {},
   "outputs": [
    {
     "name": "stdout",
     "output_type": "stream",
     "text": [
      "[-7]\n",
      "[-7, -3, 2, 5, 7, 9]\n",
      "[9, 7, 5, 2, -3, -7]\n",
      "[-7, -3, 2, 7, 9]\n",
      "[0, 2, 4, 6, 8, -7, -3, 2, 7, 9]\n",
      "[-7, -3, 0, 2, 2, 4, 6, 7, 8, 9]\n",
      "(-7, -3, 0, 2, 2, 4, 6, 7, 8, 9)\n"
     ]
    }
   ],
   "source": [
    "# 宣告一個 list\n",
    "a = []\n",
    "# 新增 1 筆任意數字\n",
    "a.append(-7)\n",
    "print(a)\n",
    "# 新增 5 筆任意數字\n",
    "a += [-3, 2, 5, 7, 9]\n",
    "print(a)\n",
    "# 逆排序\n",
    "b = a[::-1]\n",
    "print(b)\n",
    "# 刪除 index 為 3的數字\n",
    "a.pop(3)\n",
    "print(a)\n",
    "# 在前面新增 5 個任意數字\n",
    "a = [0, 2, 4, 6, 8] + a\n",
    "print(a)\n",
    "# 排序\n",
    "a.sort()\n",
    "print(a)\n",
    "# 轉換成 tuple\n",
    "c = tuple(a)\n",
    "print(c)"
   ]
  },
  {
   "cell_type": "markdown",
   "metadata": {},
   "source": [
    "## quiz 2\n",
    "宣告兩個一樣長度的 list, 接著使用 zip 加上型別轉換，建構出一個 dictionary"
   ]
  },
  {
   "cell_type": "code",
   "execution_count": 6,
   "metadata": {},
   "outputs": [
    {
     "data": {
      "text/plain": [
       "{'name': 'Jacky', 'gender': 'man', 'age': 26}"
      ]
     },
     "execution_count": 6,
     "metadata": {},
     "output_type": "execute_result"
    }
   ],
   "source": [
    "key = [\"name\", \"gender\", \"age\"]\n",
    "val = [\"Jacky\", \"man\", 26]\n",
    "obj = zip(key, val)\n",
    "dict(obj)"
   ]
  },
  {
   "cell_type": "markdown",
   "metadata": {},
   "source": [
    "## quiz 3\n",
    "\n",
    "使用生成式，宣告兩個集合 (set) ，一個集合 (s1) 內有 -3至 5 的所有整數，另一個 (s2) 有 1 至 8 的所有整數<br>\n",
    "印出兩集合的 交集<br>\n",
    "印出兩集合的 聯集<br>\n",
    "印出兩集合互相的 差集<br>"
   ]
  },
  {
   "cell_type": "code",
   "execution_count": 7,
   "metadata": {},
   "outputs": [
    {
     "name": "stdout",
     "output_type": "stream",
     "text": [
      "{0, 1, 2, 3, 4, 5, -1, -3, -2}\n",
      "{1, 2, 3, 4, 5, 6, 7, 8}\n"
     ]
    }
   ],
   "source": [
    "S1 = {elem for elem in range(-3,5+1)}\n",
    "print(S1)\n",
    "S2 = {elem for elem in range(1,8+1)}\n",
    "print(S2)"
   ]
  },
  {
   "cell_type": "code",
   "execution_count": 8,
   "metadata": {},
   "outputs": [
    {
     "name": "stdout",
     "output_type": "stream",
     "text": [
      "{1, 2, 3, 4, 5}\n",
      "{0, 1, 2, 3, 4, 5, 6, 7, 8, -1, -3, -2}\n",
      "{0, -3, -1, -2}\n",
      "{8, 6, 7}\n"
     ]
    }
   ],
   "source": [
    "print(S1 & S2)\n",
    "print(S1 | S2)\n",
    "print(S1 - S2)\n",
    "print(S2 - S1)"
   ]
  },
  {
   "cell_type": "markdown",
   "metadata": {},
   "source": [
    "# 4 Control Flow"
   ]
  },
  {
   "cell_type": "markdown",
   "metadata": {},
   "source": [
    "## quiz1: \n",
    "請使用 control flow 結合 for迴圈，計算此成績列的 GPA。\n",
    "\n",
    "**成績與 GP 對照表**<br>\n",
    "90 <= score &#160; &#160; &#160; &#160; &#160;: 4.3<br>\n",
    "85 <= score < 90 : 4.0<br>\n",
    "80 <= score < 85 : 3.7<br>\n",
    "77 <= score < 80 : 3.3<br>\n",
    "73 <= score < 77 : 3.0<br>\n",
    "70 <= score < 73 : 2.7<br>\n",
    "67 <= score < 70 : 2.3<br>\n",
    "63 <= score < 67 : 2.0<br>\n",
    "60 <= score < 63 : 1.7<br>\n",
    "50 <= score < 60 : 1.0<br>\n",
    "&#160; &#160; &#160; &#160; &#160; &#160;score < 50 : 0<br>\n",
    "\n",
    "**每筆資料為 (科目成績, 科目學分數)**<br>\n",
    "transcript = [(50, 1), (78, 2), (96, 2), (80, 3), (81, 2), (56, 3), (73, 3), (80, 3), (99, 2), (95, 1), <br>\n",
    "&#160; &#160; &#160; &#160; &#160; &#160; &#160; &#160; &#160; &#160; &#160;(87, 3), (76, 3), (77, 1), (81, 3), (89, 2), (53, 3), (59, 2), (68, 2), (54, 3), (58, 3)]"
   ]
  },
  {
   "cell_type": "code",
   "execution_count": 9,
   "metadata": {},
   "outputs": [],
   "source": [
    "transcript = [(50, 1), (78, 2), (96, 2), (80, 3), (81, 2), (56, 3), (73, 3), (80, 3), (99, 2), (95, 1), \n",
    "              (87, 3), (76, 3), (77, 1), (81, 3), (89, 2), (53, 3), (59, 2), (68, 2), (54, 3), (58, 3)]"
   ]
  },
  {
   "cell_type": "code",
   "execution_count": 10,
   "metadata": {},
   "outputs": [
    {
     "name": "stdout",
     "output_type": "stream",
     "text": [
      "2.759574468085106\n"
     ]
    }
   ],
   "source": [
    "total_gp = 0\n",
    "total_weight = 0\n",
    "for score, weight in transcript:\n",
    "    if 90 <= score:\n",
    "        total_gp += 4.3*weight\n",
    "        total_weight += weight\n",
    "    elif 85 <= score and score < 90:\n",
    "        total_gp += 4.0*weight\n",
    "        total_weight += weight\n",
    "    elif 80 <= score and score < 85:\n",
    "        total_gp += 3.7*weight\n",
    "        total_weight += weight\n",
    "    elif 77 <= score and score < 80:\n",
    "        total_gp += 3.3*weight\n",
    "        total_weight += weight\n",
    "    elif 73 <= score and score < 77:\n",
    "        total_gp += 3.0*weight\n",
    "        total_weight += weight\n",
    "    elif 70 <= score and score < 73:\n",
    "        total_gp += 2.7*weight\n",
    "        total_weight += weight\n",
    "    elif 67 <= score and score < 70:\n",
    "        total_gp += 2.3*weight\n",
    "        total_weight += weight\n",
    "    elif 63 <= score and score < 67:\n",
    "        total_gp += 2.0*weight\n",
    "        total_weight += weight\n",
    "    elif 60 <= score and score < 63:\n",
    "        total_gp += 1.7*weight\n",
    "        total_weight += weight\n",
    "    elif 50 <= score and score < 60:\n",
    "        total_gp += 1.0*weight\n",
    "        total_weight += weight\n",
    "    else:\n",
    "        total_gp += 0*weight\n",
    "        total_weight += weight\n",
    "        \n",
    "GPA = total_gp/total_weight\n",
    "print(GPA)"
   ]
  },
  {
   "cell_type": "markdown",
   "metadata": {},
   "source": [
    "## quiz2:\n",
    "下面是一個資料集的影像名稱，每張影像除了有六碼編號之外，還有它屬於的類別 (01 ~ 04)\n",
    "\n",
    "data = ['IMG035833_02.jpeg',<br>\n",
    "&#160; &#160; &#160; &#160; &#160; &#160; &#160;'IMG069933_03.jpeg',<br>\n",
    "&#160; &#160; &#160; &#160; &#160; &#160; &#160;'IMG001572_02.jpeg',<br>\n",
    "&#160; &#160; &#160; &#160; &#160; &#160; &#160;'IMG025945_02.jpeg',<br>\n",
    "&#160; &#160; &#160; &#160; &#160; &#160; &#160;'IMG024850_01.jpeg',<br>\n",
    "&#160; &#160; &#160; &#160; &#160; &#160; &#160;'IMG086288_03.jpeg',<br>\n",
    "&#160; &#160; &#160; &#160; &#160; &#160; &#160;'IMG069932_04.jpeg',<br>\n",
    "&#160; &#160; &#160; &#160; &#160; &#160; &#160;'IMG032322_04.jpeg',<br>\n",
    "&#160; &#160; &#160; &#160; &#160; &#160; &#160;'IMG049740_03.jpeg',<br>\n",
    "&#160; &#160; &#160; &#160; &#160; &#160; &#160;'IMG013506_03.jpeg',<br>\n",
    "&#160; &#160; &#160; &#160; &#160; &#160; &#160;'IMG001813_01.jpeg',<br>\n",
    "&#160; &#160; &#160; &#160; &#160; &#160; &#160;'IMG014431_04.jpeg',<br>\n",
    "&#160; &#160; &#160; &#160; &#160; &#160; &#160;'IMG026580_04.jpeg',<br>\n",
    "&#160; &#160; &#160; &#160; &#160; &#160; &#160;'IMG028975_04.jpeg',<br>\n",
    "&#160; &#160; &#160; &#160; &#160; &#160; &#160;'IMG079073_04.jpeg',<br>\n",
    "&#160; &#160; &#160; &#160; &#160; &#160; &#160;'IMG049077_02.jpeg',<br>\n",
    "&#160; &#160; &#160; &#160; &#160; &#160; &#160;'IMG033090_04.jpeg',<br>\n",
    "&#160; &#160; &#160; &#160; &#160; &#160; &#160;'IMG040904_04.jpeg',<br>\n",
    "&#160; &#160; &#160; &#160; &#160; &#160; &#160;'IMG065895_03.jpeg',<br>\n",
    "&#160; &#160; &#160; &#160; &#160; &#160; &#160;'IMG012382_01.jpeg',<br>\n",
    "&#160; &#160; &#160; &#160; &#160; &#160; &#160;'IMG028850_03.jpeg',<br>\n",
    "&#160; &#160; &#160; &#160; &#160; &#160; &#160;'IMG068507_01.jpeg',<br>\n",
    "&#160; &#160; &#160; &#160; &#160; &#160; &#160;'IMG078936_04.jpeg',<br>\n",
    "&#160; &#160; &#160; &#160; &#160; &#160; &#160;'IMG003145_04.jpeg',<br>\n",
    "&#160; &#160; &#160; &#160; &#160; &#160; &#160;'IMG056011_02.jpeg',<br>\n",
    "&#160; &#160; &#160; &#160; &#160; &#160; &#160;'IMG015516_01.jpeg',<br>\n",
    "&#160; &#160; &#160; &#160; &#160; &#160; &#160;'IMG077548_02.jpeg',<br>\n",
    "&#160; &#160; &#160; &#160; &#160; &#160; &#160;'IMG040693_01.jpeg',<br>\n",
    "&#160; &#160; &#160; &#160; &#160; &#160; &#160;'IMG015801_02.jpeg',<br>\n",
    "&#160; &#160; &#160; &#160; &#160; &#160; &#160;'IMG066898_02.jpeg',<br>\n",
    "&#160; &#160; &#160; &#160; &#160; &#160; &#160;'IMG039423_04.jpeg',<br>\n",
    "&#160; &#160; &#160; &#160; &#160; &#160; &#160;'IMG085263_03.jpeg',<br>\n",
    "&#160; &#160; &#160; &#160; &#160; &#160; &#160;'IMG068941_04.jpeg',<br>\n",
    "&#160; &#160; &#160; &#160; &#160; &#160; &#160;'IMG028542_03.jpeg',<br>\n",
    "&#160; &#160; &#160; &#160; &#160; &#160; &#160;'IMG016187_01.jpeg',<br>\n",
    "&#160; &#160; &#160; &#160; &#160; &#160; &#160;'IMG046760_02.jpeg',<br>\n",
    "&#160; &#160; &#160; &#160; &#160; &#160; &#160;'IMG083860_03.jpeg',<br>\n",
    "&#160; &#160; &#160; &#160; &#160; &#160; &#160;'IMG012974_03.jpeg',<br>\n",
    "&#160; &#160; &#160; &#160; &#160; &#160; &#160;'IMG094728_04.jpeg',<br>\n",
    "&#160; &#160; &#160; &#160; &#160; &#160; &#160;'IMG023535_01.jpeg',<br>\n",
    "&#160; &#160; &#160; &#160; &#160; &#160; &#160;'IMG046037_04.jpeg',<br>\n",
    "&#160; &#160; &#160; &#160; &#160; &#160; &#160;'IMG084306_02.jpeg',<br>\n",
    "&#160; &#160; &#160; &#160; &#160; &#160; &#160;'IMG008328_01.jpeg',<br>\n",
    "&#160; &#160; &#160; &#160; &#160; &#160; &#160;'IMG097630_04.jpeg',<br>\n",
    "&#160; &#160; &#160; &#160; &#160; &#160; &#160;'IMG046427_02.jpeg',<br>\n",
    "&#160; &#160; &#160; &#160; &#160; &#160; &#160;'IMG098467_03.jpeg',<br>\n",
    "&#160; &#160; &#160; &#160; &#160; &#160; &#160;'IMG078326_02.jpeg',<br>\n",
    "&#160; &#160; &#160; &#160; &#160; &#160; &#160;'IMG036626_03.jpeg',<br>\n",
    "&#160; &#160; &#160; &#160; &#160; &#160; &#160;'IMG060321_04.jpeg',<br>\n",
    "&#160; &#160; &#160; &#160; &#160; &#160; &#160;'IMG082753_01.jpeg',<br>\n",
    "&#160; &#160; &#160; &#160; &#160; &#160; &#160;'IMG066053_02.jpeg',<br>\n",
    "&#160; &#160; &#160; &#160; &#160; &#160; &#160;'IMG082360_04.jpeg',<br>\n",
    "&#160; &#160; &#160; &#160; &#160; &#160; &#160;'IMG082000_02.jpeg',<br>\n",
    "&#160; &#160; &#160; &#160; &#160; &#160; &#160;'IMG098735_04.jpeg',<br>\n",
    "&#160; &#160; &#160; &#160; &#160; &#160; &#160;'IMG028116_03.jpeg',<br>\n",
    "&#160; &#160; &#160; &#160; &#160; &#160; &#160;'IMG018454_03.jpeg',<br>\n",
    "&#160; &#160; &#160; &#160; &#160; &#160; &#160;'IMG053744_03.jpeg',<br>\n",
    "&#160; &#160; &#160; &#160; &#160; &#160; &#160;'IMG010996_04.jpeg',<br>\n",
    "&#160; &#160; &#160; &#160; &#160; &#160; &#160;'IMG062445_03.jpeg',<br>\n",
    "&#160; &#160; &#160; &#160; &#160; &#160; &#160;'IMG040778_03.jpeg',<br>\n",
    "&#160; &#160; &#160; &#160; &#160; &#160; &#160;'IMG034566_01.jpeg',<br>\n",
    "&#160; &#160; &#160; &#160; &#160; &#160; &#160;'IMG095526_04.jpeg',<br>\n",
    "&#160; &#160; &#160; &#160; &#160; &#160; &#160;'IMG010351_03.jpeg',<br>\n",
    "&#160; &#160; &#160; &#160; &#160; &#160; &#160;'IMG085847_04.jpeg',<br>\n",
    "&#160; &#160; &#160; &#160; &#160; &#160; &#160;'IMG013204_03.jpeg',<br>\n",
    "&#160; &#160; &#160; &#160; &#160; &#160; &#160;'IMG060903_03.jpeg',<br>\n",
    "&#160; &#160; &#160; &#160; &#160; &#160; &#160;'IMG043702_03.jpeg',<br>\n",
    "&#160; &#160; &#160; &#160; &#160; &#160; &#160;'IMG020717_01.jpeg',<br>\n",
    "&#160; &#160; &#160; &#160; &#160; &#160; &#160;'IMG026048_02.jpeg',<br>\n",
    "&#160; &#160; &#160; &#160; &#160; &#160; &#160;'IMG068022_03.jpeg']<br>\n",
    "\n",
    "\n",
    "觀察上面檔名的規律，並宣告四個 list，設計程式將上述影像檔名，把他們的編號放置到四個對應的類別 list 中。\n",
    "\n",
    "做為參考，在執行完你的程式後，四個 list 會存入的東西分別為：<br>\n",
    "category1_id = ['024850', '001813', '012382', '068507' .... ]<br>\n",
    "category2_id = ['035833', '001572', '025945', '049077' .... ]<br>\n",
    "category3_id = ['069933', '086288', '049740', '013506' .... ]<br>\n",
    "category4_id = ['069932', '032322', '014431', '026580' .... ]<br>"
   ]
  },
  {
   "cell_type": "code",
   "execution_count": 11,
   "metadata": {},
   "outputs": [],
   "source": [
    "data = ['IMG035833_02.jpeg',\n",
    "        'IMG069933_03.jpeg',\n",
    "        'IMG001572_02.jpeg',\n",
    "        'IMG025945_02.jpeg',\n",
    "        'IMG024850_01.jpeg',\n",
    "        'IMG086288_03.jpeg',\n",
    "        'IMG069932_04.jpeg',\n",
    "        'IMG032322_04.jpeg',\n",
    "        'IMG049740_03.jpeg',\n",
    "        'IMG013506_03.jpeg',\n",
    "        'IMG001813_01.jpeg',\n",
    "        'IMG014431_04.jpeg',\n",
    "        'IMG026580_04.jpeg',\n",
    "        'IMG028975_04.jpeg',\n",
    "        'IMG079073_04.jpeg',\n",
    "        'IMG049077_02.jpeg',\n",
    "        'IMG033090_04.jpeg',\n",
    "        'IMG040904_04.jpeg',\n",
    "        'IMG065895_03.jpeg',\n",
    "        'IMG012382_01.jpeg',\n",
    "        'IMG028850_03.jpeg',\n",
    "        'IMG068507_01.jpeg',\n",
    "        'IMG078936_04.jpeg',\n",
    "        'IMG003145_04.jpeg',\n",
    "        'IMG056011_02.jpeg',\n",
    "        'IMG015516_01.jpeg',\n",
    "        'IMG077548_02.jpeg',\n",
    "        'IMG040693_01.jpeg',\n",
    "        'IMG015801_02.jpeg',\n",
    "        'IMG066898_02.jpeg',\n",
    "        'IMG039423_04.jpeg',\n",
    "        'IMG085263_03.jpeg',\n",
    "        'IMG068941_04.jpeg',\n",
    "        'IMG028542_03.jpeg',\n",
    "        'IMG016187_01.jpeg',\n",
    "        'IMG046760_02.jpeg',\n",
    "        'IMG083860_03.jpeg',\n",
    "        'IMG012974_03.jpeg',\n",
    "        'IMG094728_04.jpeg',\n",
    "        'IMG023535_01.jpeg',\n",
    "        'IMG046037_04.jpeg',\n",
    "        'IMG084306_02.jpeg',\n",
    "        'IMG008328_01.jpeg',\n",
    "        'IMG097630_04.jpeg',\n",
    "        'IMG046427_02.jpeg',\n",
    "        'IMG098467_03.jpeg',\n",
    "        'IMG078326_02.jpeg',\n",
    "        'IMG036626_03.jpeg',\n",
    "        'IMG060321_04.jpeg',\n",
    "        'IMG082753_01.jpeg',\n",
    "        'IMG066053_02.jpeg',\n",
    "        'IMG082360_04.jpeg',\n",
    "        'IMG082000_02.jpeg',\n",
    "        'IMG098735_04.jpeg',\n",
    "        'IMG028116_03.jpeg',\n",
    "        'IMG018454_03.jpeg',\n",
    "        'IMG053744_03.jpeg',\n",
    "        'IMG010996_04.jpeg',\n",
    "        'IMG062445_03.jpeg',\n",
    "        'IMG040778_03.jpeg',\n",
    "        'IMG034566_01.jpeg',\n",
    "        'IMG095526_04.jpeg',\n",
    "        'IMG010351_03.jpeg',\n",
    "        'IMG085847_04.jpeg',\n",
    "        'IMG013204_03.jpeg',\n",
    "        'IMG060903_03.jpeg',\n",
    "        'IMG043702_03.jpeg',\n",
    "        'IMG020717_01.jpeg',\n",
    "        'IMG026048_02.jpeg',\n",
    "        'IMG068022_03.jpeg']"
   ]
  },
  {
   "cell_type": "code",
   "execution_count": 12,
   "metadata": {},
   "outputs": [
    {
     "name": "stdout",
     "output_type": "stream",
     "text": [
      "['024850', '001813', '012382', '068507', '015516', '040693', '016187', '023535', '008328', '082753', '034566', '020717']\n",
      "['035833', '001572', '025945', '049077', '056011', '077548', '015801', '066898', '046760', '084306', '046427', '078326', '066053', '082000', '026048']\n",
      "['069933', '086288', '049740', '013506', '065895', '028850', '085263', '028542', '083860', '012974', '098467', '036626', '028116', '018454', '053744', '062445', '040778', '010351', '013204', '060903', '043702', '068022']\n",
      "['069932', '032322', '014431', '026580', '028975', '079073', '033090', '040904', '078936', '003145', '039423', '068941', '094728', '046037', '097630', '060321', '082360', '098735', '010996', '095526', '085847']\n"
     ]
    }
   ],
   "source": [
    "category1_id = []\n",
    "category2_id = []\n",
    "category3_id = []\n",
    "category4_id = []\n",
    "for file in data:\n",
    "    name, category = file[3:9], file[10:12]\n",
    "    if category == '01':\n",
    "        category1_id.append(name)\n",
    "    elif category == '02':\n",
    "        category2_id.append(name)        \n",
    "    elif category == '03':\n",
    "        category3_id.append(name)\n",
    "    else:\n",
    "        category4_id.append(name)     \n",
    "print(category1_id)\n",
    "print(category2_id)\n",
    "print(category3_id)\n",
    "print(category4_id)"
   ]
  },
  {
   "cell_type": "code",
   "execution_count": 13,
   "metadata": {},
   "outputs": [
    {
     "name": "stdout",
     "output_type": "stream",
     "text": [
      "{'02': ['035833', '001572', '025945', '049077', '056011', '077548', '015801', '066898', '046760', '084306', '046427', '078326', '066053', '082000', '026048'], '03': ['069933', '086288', '049740', '013506', '065895', '028850', '085263', '028542', '083860', '012974', '098467', '036626', '028116', '018454', '053744', '062445', '040778', '010351', '013204', '060903', '043702', '068022'], '01': ['024850', '001813', '012382', '068507', '015516', '040693', '016187', '023535', '008328', '082753', '034566', '020717'], '04': ['069932', '032322', '014431', '026580', '028975', '079073', '033090', '040904', '078936', '003145', '039423', '068941', '094728', '046037', '097630', '060321', '082360', '098735', '010996', '095526', '085847']}\n"
     ]
    }
   ],
   "source": [
    "D = {}\n",
    "for file in data:\n",
    "    name, category = file[3:9], file[10:12]\n",
    "    if category not in D:\n",
    "        D[category] = []\n",
    "    D[category].append(name)\n",
    "print(D)"
   ]
  },
  {
   "cell_type": "markdown",
   "metadata": {},
   "source": [
    "# quiz3:\n",
    "\n",
    "請使用 list comprehension 建構出一個二維的 list，內容如下\n",
    "\n",
    "[[10, 11, 12, 13, 14, 16, 17, 18, 19],<br>\n",
    "&#160;[20, 21, 22, 23, 24, 26, 27, 28, 29],<br>\n",
    "&#160;[30, 31, 32, 33, 34, 36, 37, 38, 39],<br>\n",
    "&#160;[40, 41, 42, 43, 44, 46, 47, 48, 49],<br>\n",
    "&#160;[60, 61, 62, 63, 64, 66, 67, 68, 69],<br>\n",
    "&#160;[70, 71, 72, 73, 74, 76, 77, 78, 79],<br>\n",
    "&#160;[80, 81, 82, 83, 84, 86, 87, 88, 89],<br>\n",
    "&#160;[90, 91, 92, 93, 94, 96, 97, 98, 99]]<br>"
   ]
  },
  {
   "cell_type": "code",
   "execution_count": 14,
   "metadata": {},
   "outputs": [
    {
     "data": {
      "text/plain": [
       "[[10, 11, 12, 13, 14, 15, 16, 17, 18, 19],\n",
       " [20, 21, 22, 23, 24, 25, 26, 27, 28, 29],\n",
       " [30, 31, 32, 33, 34, 35, 36, 37, 38, 39],\n",
       " [40, 41, 42, 43, 44, 45, 46, 47, 48, 49],\n",
       " [50, 51, 52, 53, 54, 55, 56, 57, 58, 59],\n",
       " [60, 61, 62, 63, 64, 65, 66, 67, 68, 69],\n",
       " [70, 71, 72, 73, 74, 75, 76, 77, 78, 79],\n",
       " [80, 81, 82, 83, 84, 85, 86, 87, 88, 89],\n",
       " [90, 91, 92, 93, 94, 95, 96, 97, 98, 99]]"
      ]
     },
     "execution_count": 14,
     "metadata": {},
     "output_type": "execute_result"
    }
   ],
   "source": [
    "[[row*10+col for col in range(10)] for row in range(1, 10)]"
   ]
  },
  {
   "cell_type": "markdown",
   "metadata": {},
   "source": [
    "# 5 Functions"
   ]
  },
  {
   "cell_type": "markdown",
   "metadata": {},
   "source": [
    "## quiz1: \n",
    "實作一個 lambda function，把輸入 (數字) 平方之後加上 5 回傳。"
   ]
  },
  {
   "cell_type": "code",
   "execution_count": 15,
   "metadata": {},
   "outputs": [
    {
     "data": {
      "text/plain": [
       "105"
      ]
     },
     "execution_count": 15,
     "metadata": {},
     "output_type": "execute_result"
    }
   ],
   "source": [
    "f = lambda x: (x**2)+5\n",
    "f(10)"
   ]
  },
  {
   "cell_type": "markdown",
   "metadata": {},
   "source": [
    "## quiz2: \n",
    "實作一個 function，輸入寬 (w) 及長 (l) 後印出如附圖所示的鉛筆形狀。"
   ]
  },
  {
   "cell_type": "code",
   "execution_count": 16,
   "metadata": {},
   "outputs": [],
   "source": [
    "# |******\n",
    "# |*******\n",
    "# w********\n",
    "# |*******\n",
    "# |******\n",
    "#  --l--\n",
    "\n",
    "# e.g. \n",
    "# pencil(5, 6) 會印出\n",
    "# *******\n",
    "# ********\n",
    "# *********\n",
    "# ********\n",
    "# *******"
   ]
  },
  {
   "cell_type": "code",
   "execution_count": 17,
   "metadata": {},
   "outputs": [],
   "source": [
    "def pencil(w, l):\n",
    "    for row in range(w):\n",
    "        print(\"*\"*(l+min(row, w-row-1)))"
   ]
  },
  {
   "cell_type": "code",
   "execution_count": 18,
   "metadata": {},
   "outputs": [
    {
     "name": "stdout",
     "output_type": "stream",
     "text": [
      "******\n",
      "*******\n",
      "********\n",
      "*******\n",
      "******\n"
     ]
    }
   ],
   "source": [
    "pencil(5,6)"
   ]
  },
  {
   "cell_type": "markdown",
   "metadata": {},
   "source": [
    "## quiz3: \n",
    "建構一個 費式數列 的 generator\n",
    "\n",
    "使用 next() 的時候<br>\n",
    "第一次 yield 1<br>\n",
    "第二次 yield 1<br>\n",
    "第三次 yield 2<br>\n",
    "第四次 yield 3<br>\n",
    "第五次 yield 5<br>\n",
    "... 以此類推<br>"
   ]
  },
  {
   "cell_type": "code",
   "execution_count": 19,
   "metadata": {},
   "outputs": [],
   "source": [
    "# f(0) = 0\n",
    "# f(1) = 1\n",
    "# f(n) = f(n-1)+f(n-2)\n",
    "def fib_generator():\n",
    "    # your code here\n",
    "    yield 0\n",
    "    yield 1\n",
    "    f_m2, f_m1 = 0, 1\n",
    "    while True:\n",
    "        f_m1, f_m2 = f_m2+f_m1, f_m1\n",
    "        yield f_m1"
   ]
  },
  {
   "cell_type": "code",
   "execution_count": 20,
   "metadata": {},
   "outputs": [
    {
     "name": "stdout",
     "output_type": "stream",
     "text": [
      "0\n",
      "1\n",
      "1\n",
      "2\n",
      "3\n",
      "5\n",
      "8\n",
      "13\n",
      "21\n",
      "34\n"
     ]
    }
   ],
   "source": [
    "# 可以使用此段程式驗證你的 generator 有沒有成功\n",
    "\n",
    "f = fib_generator()\n",
    "for i in range(10):\n",
    "    print(next(f))"
   ]
  },
  {
   "cell_type": "markdown",
   "metadata": {},
   "source": [
    "# 6 Object Oriented Programming (OOP)"
   ]
  },
  {
   "cell_type": "markdown",
   "metadata": {},
   "source": [
    "## quiz1: \n",
    "運用 person 內的一些屬性（性別年齡身高體重）實作 BMR 的計算。\n",
    "\n",
    "BMR(男)=(13.7×體重(公斤))+(5.0×身高(公分))-(6.8×年齡)+66<br>\n",
    "BMR(女)=(9.6×體重(公斤))+(1.8×身高(公分))-(4.7×年齡)+655<br>"
   ]
  },
  {
   "cell_type": "code",
   "execution_count": 21,
   "metadata": {},
   "outputs": [],
   "source": [
    "class person:\n",
    "\n",
    "    def __init__(self, name, age, height, weight, gender): \n",
    "        self.name = name\n",
    "        self.age = age\n",
    "        self.gender = gender # 'Male' or 'Female'\n",
    "        self.height = height\n",
    "        self.weight = weight\n",
    "\n",
    "    def __repr__(self):\n",
    "        return f'Class Person: {self.name}'\n",
    "\n",
    "    def BMR(self):\n",
    "        if self.gender == 'Man':\n",
    "            return (13.7*self.weight+5.0*self.height-6.8*self.age)+60\n",
    "        elif self.gender == 'Male':\n",
    "            return (9.6*self.weight+1.8*self.height-4.7*self.age)+655\n",
    "        else:\n",
    "            return None"
   ]
  },
  {
   "cell_type": "code",
   "execution_count": 22,
   "metadata": {},
   "outputs": [
    {
     "name": "stdout",
     "output_type": "stream",
     "text": [
      "1650.0\n"
     ]
    }
   ],
   "source": [
    "p1 = person('Jacky', 26, 178, 64, 'Man')\n",
    "print(p1.BMR())"
   ]
  },
  {
   "cell_type": "code",
   "execution_count": 23,
   "metadata": {},
   "outputs": [
    {
     "name": "stdout",
     "output_type": "stream",
     "text": [
      "1467.6\n"
     ]
    }
   ],
   "source": [
    "p2 = person('Jacky', 26, 178, 64, 'Male')\n",
    "print(p2.BMR())"
   ]
  },
  {
   "cell_type": "markdown",
   "metadata": {},
   "source": [
    "## quiz2: \n",
    "給定一個正多邊形的父類別，使用繼承分別定出正三角形，正四邊形的子類別。\n",
    "\n",
    "並在正三角形類別實作面積與高的 method。<br>\n",
    "在正四邊形類別實作面積與對角線長的 method。<br>"
   ]
  },
  {
   "cell_type": "code",
   "execution_count": 24,
   "metadata": {},
   "outputs": [],
   "source": [
    "class polygon: #正多邊形\n",
    "    \n",
    "    def __init__(self, length):\n",
    "        self.length = length\n",
    "        \n",
    "    def __repr__(self):\n",
    "        return f'Polygon of length {self.length}'\n",
    "    \n",
    "class triangle(polygon):\n",
    "    \n",
    "    def __init__(self, length):\n",
    "        super().__init__(length)\n",
    "        self.edge = self.length/3\n",
    "        \n",
    "    def __repr__(self):\n",
    "        f'Triangle of height {self.height()}' + f\"\\nArea : {self.area()}\"\n",
    "        \n",
    "    def area(self):\n",
    "        return (3**(1/2))/4*self.edge**2\n",
    "        \n",
    "    def height(self):\n",
    "        return (3**(1/2))/2*self.edge\n",
    "\n",
    "class square(polygon):\n",
    "    \n",
    "    def __init__(self, length):\n",
    "        super().__init__(length)\n",
    "        self.edge = self.length/4\n",
    "        \n",
    "    def __repr__(self):\n",
    "        f'Square of diagonal {self.diagonal()}' + f\"\\nArea : {self.area()}\"\n",
    "        \n",
    "    def area(self):\n",
    "        return self.edge**2\n",
    "        \n",
    "    def diagonal(self):\n",
    "        return (2**(1/2))*self.edge"
   ]
  },
  {
   "cell_type": "code",
   "execution_count": 25,
   "metadata": {},
   "outputs": [
    {
     "name": "stdout",
     "output_type": "stream",
     "text": [
      "4.811252243246882\n",
      "2.8867513459481287\n",
      "3.0625\n",
      "2.4748737341529163\n"
     ]
    }
   ],
   "source": [
    "# 可以使用此程式驗證你的 class 有沒有撰寫正確\n",
    "\n",
    "tri5 = triangle(10)\n",
    "print(tri5.area())\n",
    "print(tri5.height())\n",
    "\n",
    "sqr7 = square(7)\n",
    "print(sqr7.area())\n",
    "print(sqr7.diagonal())"
   ]
  },
  {
   "cell_type": "markdown",
   "metadata": {},
   "source": [
    "## <b>補充1\n",
    "> <b>class attribute<br>\n",
    "> <b>instance attribute"
   ]
  },
  {
   "cell_type": "code",
   "execution_count": 2,
   "metadata": {},
   "outputs": [],
   "source": [
    "class Animal:\n",
    "    cat = 0  # class attribute\n",
    "    def __init__(self):\n",
    "        self.dog = 5  # instance attribute\n",
    "        self.cow = \"Python\"  # instance attribute"
   ]
  },
  {
   "cell_type": "code",
   "execution_count": 3,
   "metadata": {},
   "outputs": [
    {
     "data": {
      "text/plain": [
       "mappingproxy({'__module__': '__main__',\n",
       "              'cat': 0,\n",
       "              '__init__': <function __main__.Animal.__init__(self)>,\n",
       "              '__dict__': <attribute '__dict__' of 'Animal' objects>,\n",
       "              '__weakref__': <attribute '__weakref__' of 'Animal' objects>,\n",
       "              '__doc__': None})"
      ]
     },
     "execution_count": 3,
     "metadata": {},
     "output_type": "execute_result"
    }
   ],
   "source": [
    "Animal.__dict__  # vars(Animal)"
   ]
  },
  {
   "cell_type": "code",
   "execution_count": 5,
   "metadata": {},
   "outputs": [
    {
     "data": {
      "text/plain": [
       "0"
      ]
     },
     "execution_count": 5,
     "metadata": {},
     "output_type": "execute_result"
    }
   ],
   "source": [
    "Animal.cat"
   ]
  },
  {
   "cell_type": "code",
   "execution_count": 6,
   "metadata": {},
   "outputs": [],
   "source": [
    "my_cls = Animal()"
   ]
  },
  {
   "cell_type": "code",
   "execution_count": 7,
   "metadata": {},
   "outputs": [
    {
     "data": {
      "text/plain": [
       "{'dog': 5, 'cow': 'Python'}"
      ]
     },
     "execution_count": 7,
     "metadata": {},
     "output_type": "execute_result"
    }
   ],
   "source": [
    "my_cls.__dict__"
   ]
  },
  {
   "cell_type": "code",
   "execution_count": 8,
   "metadata": {},
   "outputs": [
    {
     "data": {
      "text/plain": [
       "5"
      ]
     },
     "execution_count": 8,
     "metadata": {},
     "output_type": "execute_result"
    }
   ],
   "source": [
    "my_cls.dog"
   ]
  },
  {
   "cell_type": "code",
   "execution_count": 9,
   "metadata": {},
   "outputs": [
    {
     "data": {
      "text/plain": [
       "'Python'"
      ]
     },
     "execution_count": 9,
     "metadata": {},
     "output_type": "execute_result"
    }
   ],
   "source": [
    "my_cls.cow"
   ]
  },
  {
   "cell_type": "code",
   "execution_count": 10,
   "metadata": {},
   "outputs": [
    {
     "data": {
      "text/plain": [
       "0"
      ]
     },
     "execution_count": 10,
     "metadata": {},
     "output_type": "execute_result"
    }
   ],
   "source": [
    "# 還是可以呼叫到class attribute\n",
    "my_cls.cat"
   ]
  },
  {
   "cell_type": "markdown",
   "metadata": {},
   "source": [
    "## <b>補充2\n",
    "> <b>private<br>"
   ]
  },
  {
   "cell_type": "code",
   "execution_count": 11,
   "metadata": {},
   "outputs": [],
   "source": [
    "class Animal:\n",
    "    cat = 0\n",
    "    def __init__(self):\n",
    "        self.__dog = 5  # 前面加兩個底線即為 private\n",
    "        self.cow = \"Python\""
   ]
  },
  {
   "cell_type": "code",
   "execution_count": 12,
   "metadata": {},
   "outputs": [],
   "source": [
    "my_cls = Animal()"
   ]
  },
  {
   "cell_type": "code",
   "execution_count": 13,
   "metadata": {},
   "outputs": [
    {
     "ename": "AttributeError",
     "evalue": "'Animal' object has no attribute 'dog'",
     "output_type": "error",
     "traceback": [
      "\u001b[0;31m---------------------------------------------------------------------------\u001b[0m",
      "\u001b[0;31mAttributeError\u001b[0m                            Traceback (most recent call last)",
      "\u001b[0;32m<ipython-input-13-50eab9763c30>\u001b[0m in \u001b[0;36m<module>\u001b[0;34m\u001b[0m\n\u001b[0;32m----> 1\u001b[0;31m \u001b[0mmy_cls\u001b[0m\u001b[0;34m.\u001b[0m\u001b[0mdog\u001b[0m\u001b[0;34m\u001b[0m\u001b[0;34m\u001b[0m\u001b[0m\n\u001b[0m",
      "\u001b[0;31mAttributeError\u001b[0m: 'Animal' object has no attribute 'dog'"
     ]
    }
   ],
   "source": [
    "my_cls.dog"
   ]
  },
  {
   "cell_type": "code",
   "execution_count": 15,
   "metadata": {},
   "outputs": [
    {
     "ename": "AttributeError",
     "evalue": "'Animal' object has no attribute '__dog'",
     "output_type": "error",
     "traceback": [
      "\u001b[0;31m---------------------------------------------------------------------------\u001b[0m",
      "\u001b[0;31mAttributeError\u001b[0m                            Traceback (most recent call last)",
      "\u001b[0;32m<ipython-input-15-5252584de271>\u001b[0m in \u001b[0;36m<module>\u001b[0;34m\u001b[0m\n\u001b[0;32m----> 1\u001b[0;31m \u001b[0mmy_cls\u001b[0m\u001b[0;34m.\u001b[0m\u001b[0m__dog\u001b[0m\u001b[0;34m\u001b[0m\u001b[0;34m\u001b[0m\u001b[0m\n\u001b[0m",
      "\u001b[0;31mAttributeError\u001b[0m: 'Animal' object has no attribute '__dog'"
     ]
    }
   ],
   "source": [
    "my_cls.__dog"
   ]
  },
  {
   "cell_type": "code",
   "execution_count": 16,
   "metadata": {},
   "outputs": [
    {
     "data": {
      "text/plain": [
       "{'_Animal__dog': 5, 'cow': 'Python'}"
      ]
     },
     "execution_count": 16,
     "metadata": {},
     "output_type": "execute_result"
    }
   ],
   "source": [
    "vars(my_cls)"
   ]
  },
  {
   "cell_type": "code",
   "execution_count": 17,
   "metadata": {},
   "outputs": [
    {
     "data": {
      "text/plain": [
       "5"
      ]
     },
     "execution_count": 17,
     "metadata": {},
     "output_type": "execute_result"
    }
   ],
   "source": [
    "my_cls._Animal__dog"
   ]
  },
  {
   "cell_type": "markdown",
   "metadata": {},
   "source": [
    "## <b>補充3\n",
    "> <b>__init__<br>"
   ]
  },
  {
   "cell_type": "code",
   "execution_count": 39,
   "metadata": {},
   "outputs": [],
   "source": [
    "class company:\n",
    "    employee = []\n",
    "    name = \"\"\n",
    "    age = 0\n",
    "    def __init__(self, name, age):  # employee 沒有初始化\n",
    "        self.employee += [name]\n",
    "        self.name += name\n",
    "        self.age += age"
   ]
  },
  {
   "cell_type": "code",
   "execution_count": 40,
   "metadata": {},
   "outputs": [
    {
     "name": "stdout",
     "output_type": "stream",
     "text": [
      "[]\n",
      "\n",
      "0\n"
     ]
    }
   ],
   "source": [
    "print(company.employee)\n",
    "print(company.name)\n",
    "print(company.age)"
   ]
  },
  {
   "cell_type": "code",
   "execution_count": 41,
   "metadata": {},
   "outputs": [
    {
     "name": "stdout",
     "output_type": "stream",
     "text": [
      "['John']\n",
      "\n",
      "0\n"
     ]
    }
   ],
   "source": [
    "A = company(name = \"John\", age = 18)\n",
    "print(company.employee)  # 因為 employee 沒有初始化\n",
    "print(company.name)\n",
    "print(company.age)"
   ]
  },
  {
   "cell_type": "code",
   "execution_count": 42,
   "metadata": {},
   "outputs": [
    {
     "name": "stdout",
     "output_type": "stream",
     "text": [
      "['John', 'JoJo', 'DIO']\n",
      "\n",
      "0\n"
     ]
    }
   ],
   "source": [
    "B = company(name = \"JoJo\", age = 15)\n",
    "C = company(name = \"DIO\", age = 180)\n",
    "print(company.employee)  # 因為 employee 沒有初始化\n",
    "print(company.name)\n",
    "print(company.age)"
   ]
  },
  {
   "cell_type": "code",
   "execution_count": null,
   "metadata": {},
   "outputs": [],
   "source": []
  }
 ],
 "metadata": {
  "kernelspec": {
   "display_name": "Python 3",
   "language": "python",
   "name": "python3"
  },
  "language_info": {
   "codemirror_mode": {
    "name": "ipython",
    "version": 3
   },
   "file_extension": ".py",
   "mimetype": "text/x-python",
   "name": "python",
   "nbconvert_exporter": "python",
   "pygments_lexer": "ipython3",
   "version": "3.7.3"
  }
 },
 "nbformat": 4,
 "nbformat_minor": 4
}
