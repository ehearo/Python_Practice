{
 "cells": [
  {
   "cell_type": "markdown",
   "metadata": {},
   "source": [
    "# 變數型別 - Data Type"
   ]
  },
  {
   "cell_type": "markdown",
   "metadata": {},
   "source": [
    "本章節內容大綱\n",
    "* [變數宣告](#變數宣告)\n",
    "    * [數值變數(boolean, int, float, complex)](#數值變數)\n",
    "    * [字串變數(string)](#字串變數)\n",
    "    * [NoneType](#NoneType)\n",
    "    * [多變數宣告](#多變數宣告)\n",
    "    * [型別轉換](#型別轉換)\n",
    "* [變數的Format Code](#變數的-Format-Code)\n",
    "* [變數的運算符號](#變數的運算符號)"
   ]
  },
  {
   "cell_type": "markdown",
   "metadata": {},
   "source": [
    "## 變數宣告 \n",
    "\n",
    "在 python 中，我們宣告一個變數時，不用特別去指定它的型別(int, float等)，它會透過我們指派給該變數的值去自動定義。例如宣告 s = \"abc\"，python 就會自行把 s 定義為字串。"
   ]
  },
  {
   "cell_type": "markdown",
   "metadata": {},
   "source": [
    "### 數值變數"
   ]
  },
  {
   "cell_type": "code",
   "execution_count": 2,
   "metadata": {},
   "outputs": [
    {
     "name": "stdout",
     "output_type": "stream",
     "text": [
      "T: <class 'bool'> data type, value = True\n",
      "F: <class 'bool'> data type, value = False\n"
     ]
    }
   ],
   "source": [
    "T = True\n",
    "F = False\n",
    "\n",
    "# 由於 python 會自動根據宣告資料型態定義變數型別，\n",
    "# 可事後用 type()來了解變數的型別\n",
    "print(f'T: {type(T)} data type, value = {T}')\n",
    "print(f'F: {type(F)} data type, value = {F}')"
   ]
  },
  {
   "cell_type": "code",
   "execution_count": 3,
   "metadata": {},
   "outputs": [
    {
     "name": "stdout",
     "output_type": "stream",
     "text": [
      "I: <class 'int'> data type, value = 100\n"
     ]
    }
   ],
   "source": [
    "I1 = 100\n",
    "print(f'I: {type(I1)} data type, value = {I1}')"
   ]
  },
  {
   "cell_type": "code",
   "execution_count": 4,
   "metadata": {},
   "outputs": [
    {
     "name": "stdout",
     "output_type": "stream",
     "text": [
      "F1: <class 'float'> data type, value = 123.0\n",
      "F2: <class 'float'> data type, value = 123.0\n",
      "F3: <class 'float'> data type, value = 123.0\n",
      "F4: <class 'float'> data type, value = 123.0\n"
     ]
    }
   ],
   "source": [
    "# 宣告小數時，其型態會自動成為 float\n",
    "F1 = 123.0\n",
    "# 若小數部分為 0，宣告時可省略只留下一個點，這樣也會成為 float\n",
    "F2 = 123.\n",
    "# 宣告科學記號，也會直接成為 float，下面範例為 1.0 x 10^2\n",
    "F3 = 1.23e2\n",
    "# 也可以宣告整數後再轉換成 float\n",
    "F4 = float(123)\n",
    "\n",
    "print(f'F1: {type(F1)} data type, value = {F1}')\n",
    "print(f'F2: {type(F2)} data type, value = {F2}')\n",
    "print(f'F3: {type(F3)} data type, value = {F3}')\n",
    "print(f'F4: {type(F4)} data type, value = {F4}')"
   ]
  },
  {
   "cell_type": "code",
   "execution_count": 5,
   "metadata": {},
   "outputs": [
    {
     "name": "stdout",
     "output_type": "stream",
     "text": [
      "C: <class 'complex'> data type, value = 3.0 + 4.0j\n"
     ]
    }
   ],
   "source": [
    "# 複數的虛數部分使用 j，並且虛部不需要加上乘號 (3*j)，直接 3j 即可。\n",
    "# 複數若要拿取其實部，使用 .real，拿取虛部使用 .imag\n",
    "\n",
    "C = 3.0 + 4.0j\n",
    "print(f'C: {type(C)} data type, value = {C.real} + {C.imag}j')"
   ]
  },
  {
   "cell_type": "markdown",
   "metadata": {},
   "source": [
    "### 字串變數"
   ]
  },
  {
   "cell_type": "code",
   "execution_count": 6,
   "metadata": {},
   "outputs": [
    {
     "name": "stdout",
     "output_type": "stream",
     "text": [
      "S: <class 'str'> data type, value = 0123456789\n"
     ]
    }
   ],
   "source": [
    "# 宣告自串，用單引號或雙引號包著\n",
    "S = '0123456789'\n",
    "print(f'S: {type(S)} data type, value = {S}')"
   ]
  },
  {
   "cell_type": "code",
   "execution_count": 7,
   "metadata": {},
   "outputs": [
    {
     "name": "stdout",
     "output_type": "stream",
     "text": [
      "3\n"
     ]
    }
   ],
   "source": [
    "# 印出 S 中 index 為 3的字元 (第一個是 index 0)\n",
    "print(S[3])"
   ]
  },
  {
   "cell_type": "code",
   "execution_count": 8,
   "metadata": {},
   "outputs": [
    {
     "name": "stdout",
     "output_type": "stream",
     "text": [
      "345\n"
     ]
    }
   ],
   "source": [
    "# 印出 S 中 index 由 3 至 6(不含) 的子字串，則用冒號。前面放起始 index，後面放結束(不含) index\n",
    "print(S[3:6])"
   ]
  },
  {
   "cell_type": "code",
   "execution_count": 9,
   "metadata": {},
   "outputs": [
    {
     "name": "stdout",
     "output_type": "stream",
     "text": [
      "3456789\n"
     ]
    }
   ],
   "source": [
    "# 印出 S 中 index 由 3 至 最後 的子字串。 前面放起始 index，後面省略\n",
    "print(S[3:])"
   ]
  },
  {
   "cell_type": "code",
   "execution_count": 10,
   "metadata": {},
   "outputs": [
    {
     "name": "stdout",
     "output_type": "stream",
     "text": [
      "012345\n"
     ]
    }
   ],
   "source": [
    "# 印出 S 中 index 由 起始 至 6(不含)的子字串。 前面放起始省略，後面放結束(不含) index\n",
    "print(S[:6])"
   ]
  },
  {
   "cell_type": "code",
   "execution_count": 11,
   "metadata": {},
   "outputs": [
    {
     "name": "stdout",
     "output_type": "stream",
     "text": [
      "246\n"
     ]
    }
   ],
   "source": [
    "# 印出 S 中 index 由 2 至 8(不含)的子字串，並且每次往右跳2格取。\n",
    "# [起點:終點(不含):每次跳幾格]\n",
    "print(S[2:8:2])"
   ]
  },
  {
   "cell_type": "code",
   "execution_count": 12,
   "metadata": {},
   "outputs": [
    {
     "name": "stdout",
     "output_type": "stream",
     "text": [
      "0246\n",
      "2468\n"
     ]
    }
   ],
   "source": [
    "print(S[:8:2])\n",
    "\n",
    "print(S[2::2])"
   ]
  },
  {
   "cell_type": "code",
   "execution_count": 13,
   "metadata": {},
   "outputs": [
    {
     "name": "stdout",
     "output_type": "stream",
     "text": [
      "8\n"
     ]
    }
   ],
   "source": [
    "# 負數 index 為從右邊往左數 (-1開始)\n",
    "print(S[-2])"
   ]
  },
  {
   "cell_type": "code",
   "execution_count": 14,
   "metadata": {},
   "outputs": [
    {
     "name": "stdout",
     "output_type": "stream",
     "text": [
      "975\n"
     ]
    }
   ],
   "source": [
    "# 負數 index 片段 + 往左跳格\n",
    "print(S[-1:-6:-2])"
   ]
  },
  {
   "cell_type": "code",
   "execution_count": 15,
   "metadata": {},
   "outputs": [
    {
     "name": "stdout",
     "output_type": "stream",
     "text": [
      "65\n",
      "A\n",
      "c: <class 'str'> data type, value = A\n"
     ]
    }
   ],
   "source": [
    "# 單字元可查詢 ASCII 值，但其形態屬於 String\n",
    "c = 'A'\n",
    "print(ord(c))\n",
    "print(chr(65))\n",
    "print(f'c: {type(c)} data type, value = {c}')"
   ]
  },
  {
   "cell_type": "markdown",
   "metadata": {},
   "source": [
    "### NoneType"
   ]
  },
  {
   "cell_type": "code",
   "execution_count": 16,
   "metadata": {},
   "outputs": [
    {
     "name": "stdout",
     "output_type": "stream",
     "text": [
      "N: <class 'NoneType'> data type, value = None\n"
     ]
    }
   ],
   "source": [
    "# None 也為一種型別，在呼叫函式的時候多用此種型別來偵測有沒有執行成功 (某函式回傳了 None，代表它可能沒有順利執行)\n",
    "N = None\n",
    "print(f'N: {type(N)} data type, value = {N}')"
   ]
  },
  {
   "cell_type": "markdown",
   "metadata": {},
   "source": [
    "### 多變數宣告"
   ]
  },
  {
   "cell_type": "code",
   "execution_count": 17,
   "metadata": {},
   "outputs": [
    {
     "name": "stdout",
     "output_type": "stream",
     "text": [
      "5 5 5 5\n",
      "five 6 7j\n"
     ]
    }
   ],
   "source": [
    "# 多重變數宣告為同一值\n",
    "a = b = c = d = 5\n",
    "print(a, b, c, d)\n",
    "#  a = b = 3 = c = d 為語法錯誤，3(有值的物件)不能被拿來宣告，所以要擺在最右邊\n",
    "\n",
    "# 多重變數宣告為不同值\n",
    "e, f, g = 'five', 6, 0 + 7j\n",
    "print(e, f, g)"
   ]
  },
  {
   "cell_type": "markdown",
   "metadata": {},
   "source": [
    "### 型別轉換"
   ]
  },
  {
   "cell_type": "code",
   "execution_count": 18,
   "metadata": {},
   "outputs": [
    {
     "name": "stdout",
     "output_type": "stream",
     "text": [
      "Complx_S: <class 'int'>    data type, value = 123456\n",
      "Float_S : <class 'float'>  data type, value = 123456.0\n",
      "Complx_S: <class 'complex'> data type, value = (123456+0j)\n"
     ]
    }
   ],
   "source": [
    "S = \"123456\"\n",
    "Int_S = int(S)\n",
    "Float_S = float(S)\n",
    "Complx_S = complex(S)\n",
    "\n",
    "print(f'Complx_S: {type(Int_S)}    data type, value = {Int_S}')\n",
    "print(f'Float_S : {type(Float_S)}  data type, value = {Float_S}')\n",
    "print(f'Complx_S: {type(Complx_S)} data type, value = {Complx_S}')"
   ]
  },
  {
   "cell_type": "code",
   "execution_count": 19,
   "metadata": {},
   "outputs": [
    {
     "name": "stdout",
     "output_type": "stream",
     "text": [
      "Bin_A: <class 'str'> data type, value = 0b11110001001000000\n",
      "Oct_A: <class 'str'> data type, value = 0o361100\n",
      "Hex_A: <class 'str'> data type, value = 0x1e240\n",
      "Str_A: <class 'str'> data type, value = 123456\n"
     ]
    }
   ],
   "source": [
    "A = 123456\n",
    "\n",
    "# 整數轉成 10 進位字串\n",
    "Str_A = str(A)\n",
    "# 整數轉成 2 進位字串\n",
    "Bin_A = bin(A)\n",
    "# 整數轉成 8 進位字串\n",
    "Oct_A = oct(A)\n",
    "# 整數轉成 16 進位字串\n",
    "Hex_A = hex(A)\n",
    "\n",
    "print(f'Bin_A: {type(Bin_A)} data type, value = {Bin_A}')\n",
    "print(f'Oct_A: {type(Oct_A)} data type, value = {Oct_A}')\n",
    "print(f'Hex_A: {type(Hex_A)} data type, value = {Hex_A}')\n",
    "print(f'Str_A: {type(Str_A)} data type, value = {Str_A}')"
   ]
  },
  {
   "cell_type": "markdown",
   "metadata": {},
   "source": [
    "## 變數的 Format Code"
   ]
  },
  {
   "cell_type": "markdown",
   "metadata": {},
   "source": [
    "Format Code是各個型態的變數被 print 出來時的格式定義，例如浮點數要印幾位、整數要以幾進位印出等。\n",
    "\n",
    "整數　　　　　|   %d   | decimal\n",
    "\n",
    "整數八進位　　|   %o   | octal  \n",
    "\n",
    "整數十六進位　|   %x   | hexadecimal\n",
    "\n",
    "浮點數　　　　|   %f   | float \n",
    "\n",
    "字串　　　　　|   %s   | string"
   ]
  },
  {
   "cell_type": "code",
   "execution_count": 20,
   "metadata": {},
   "outputs": [
    {
     "name": "stdout",
     "output_type": "stream",
     "text": [
      "123 173 7b\n",
      "123.000000 1.230000e+02\n",
      "123 123.0 ABC\n"
     ]
    }
   ],
   "source": [
    "I, F, S = 123, 123.0, 'ABC'\n",
    "\n",
    "# 一般整數使用 %d (八進位為 %o, 十六進位為 %x, 二進位為 %b，可自行嘗試)\n",
    "print(\"%d %o %x\" % (I, I, I))\n",
    "\n",
    "# 浮點數為 %f (科學記號 %e), 字串為 %s\n",
    "print(\"%f %e\" % (F, F))\n",
    "\n",
    "# f-string 模式下則會視變數種類自動判斷輸出 format，所以若無特殊格式需求可不用打 format Code\n",
    "print(f'{I} {F} {S}')"
   ]
  },
  {
   "cell_type": "code",
   "execution_count": 21,
   "metadata": {},
   "outputs": [
    {
     "name": "stdout",
     "output_type": "stream",
     "text": [
      "I = 123\n",
      "I =    123\n",
      "I = 000123\n"
     ]
    }
   ],
   "source": [
    "# 預設正常輸出變數\n",
    "print(f'I = {I}')\n",
    "# 若要讓這個變數佔 6 格(預設置右)，在 d 前加入想要佔的位數，以下行為例，輸出為 _ _ _ 1 2 3 (底線為空格)\n",
    "print(f'I = {I:6d}')\n",
    "# 若要讓這個變數佔 6 格(預設置右)，且多餘的空位補 0，則在 6d 前再加入一個 0，以下行為例， 輸出為 0 0 0 1 2 3\n",
    "print(f'I = {I:06d}')"
   ]
  },
  {
   "cell_type": "code",
   "execution_count": 22,
   "metadata": {},
   "outputs": [
    {
     "name": "stdout",
     "output_type": "stream",
     "text": [
      "3.14159265358\n",
      "3.1416\n",
      "      3.1416\n",
      "0000003.1416\n"
     ]
    }
   ],
   "source": [
    "pi = 3.14159265358\n",
    "\n",
    "# 預設將變數置左，並輸出多位小數點\n",
    "print(f'{pi}')\n",
    "# 指定小數點位數，在 f 前加入需要的小數點位數，並前面再加一個點號\n",
    "print(f'{pi:.4f}')\n",
    "# 若想像整數一樣佔固定格數，在點號前加入總共(含小數)想要佔的位數，以下行為例， _ _ _ _ 3 . 1 4 1 6 (總共10格置右，小數點4位)\n",
    "print(f'{pi:12.4f}')\n",
    "# 若想在佔格的多餘處補 0，在想要佔的位數前面再加入一個 0\n",
    "print(f'{pi:012.4f}')"
   ]
  },
  {
   "cell_type": "code",
   "execution_count": 23,
   "metadata": {},
   "outputs": [
    {
     "name": "stdout",
     "output_type": "stream",
     "text": [
      "abcde          \n",
      "abcde__________\n",
      "     abcde     \n",
      "*****abcde*****\n",
      "          abcde\n",
      "~~~~~~~~~~abcde\n"
     ]
    }
   ],
   "source": [
    "S = \"abcde\"\n",
    "\n",
    "# 補充：自定義置左及置中，以及填補空位的字元\n",
    "\n",
    "# 佔 15 格置左\n",
    "print(f'{S:<15s}')\n",
    "# 佔 15 格置左，空閒格子補 _\n",
    "print(f'{S:_<15s}')\n",
    "# 佔 15 格置中\n",
    "print(f'{S:^15s}')\n",
    "# 佔 15 格置中，空閒格子補 *\n",
    "print(f'{S:*^15s}')\n",
    "# 佔 15 格置右\n",
    "print(f'{S:>15s}')\n",
    "# 佔 15 格置右，空閒格子補 ~\n",
    "print(f'{S:~>15s}')"
   ]
  },
  {
   "cell_type": "markdown",
   "metadata": {},
   "source": [
    "## 變數的運算符號"
   ]
  },
  {
   "cell_type": "markdown",
   "metadata": {},
   "source": [
    "\n",
    "\n",
    "Python 對於各種變數支援不同的運算符號集。整數、浮點數及複數支援一般四則運算、次方等，還有邏輯符號(and，or，not)及比較符號(>=，==，<=，!=)，而字串則支援串接(+)，重複(*)，也支援比較符號。"
   ]
  },
  {
   "cell_type": "code",
   "execution_count": 24,
   "metadata": {},
   "outputs": [
    {
     "name": "stdout",
     "output_type": "stream",
     "text": [
      "10  +  3 = 13\n",
      "10  -  3 = 7\n",
      "10  *  3 = 30\n",
      "10  /  3 = 3.3333333333333335\n",
      "10 //  3 = 3\n",
      "10 **  3 = 1000\n",
      "10 % 3 = 1\n"
     ]
    }
   ],
   "source": [
    "a, b = 10, 3\n",
    "\n",
    "print(f'{a}  +  {b} = {a + b}')\n",
    "print(f'{a}  -  {b} = {a - b}')\n",
    "print(f'{a}  *  {b} = {a * b}')\n",
    "# 一般除法，就算是兩個整數相除，也會將結果自動轉為浮點數\n",
    "print(f'{a}  /  {b} = {a / b}')\n",
    "# Floor division，只留下商\n",
    "print(f'{a} //  {b} = {a // b}')\n",
    "# 10 的 3 次方\n",
    "print(f'{a} **  {b} = {a ** b}')\n",
    "\n",
    "print(f'{a} % {b} = {a % b}')"
   ]
  },
  {
   "cell_type": "code",
   "execution_count": 28,
   "metadata": {},
   "outputs": [
    {
     "name": "stdout",
     "output_type": "stream",
     "text": [
      "Hello World\n",
      "Hello Hello Hello Hello Hello World World World \n",
      "     a\n"
     ]
    }
   ],
   "source": [
    "s1 = 'Hello'\n",
    "s2 = 'World'\n",
    "\n",
    "# 字串的 + 符號為串接意思\n",
    "S = s1 + ' ' + s2\n",
    "print(S)\n",
    "# 字串的 * 符號為重複意思\n",
    "S = (s1 + ' ') * 5 + (s2 + ' ') * 3\n",
    "print(S)\n",
    "\n",
    "S = ' ' * 5 + 'a'\n",
    "print(S)"
   ]
  },
  {
   "cell_type": "code",
   "execution_count": 29,
   "metadata": {},
   "outputs": [
    {
     "name": "stdout",
     "output_type": "stream",
     "text": [
      "3.1  > 3? True\n",
      "3.1  < 3? False\n",
      "3.1 == 3? False\n",
      "3.1 >= 3? True\n",
      "3.1 <= 3? False\n",
      "3.1 != 3? True\n"
     ]
    }
   ],
   "source": [
    "a = 3.1\n",
    "b = 3\n",
    "\n",
    "# 整數與符點數的大小比較相當直觀，但注意複數型態是無法做大小比較的。\n",
    "print(f'{a}  > {b}? {a > b}')\n",
    "print(f'{a}  < {b}? {a < b}')\n",
    "print(f'{a} == {b}? {a == b}')\n",
    "print(f'{a} >= {b}? {a >= b}')\n",
    "print(f'{a} <= {b}? {a <= b}')\n",
    "print(f'{a} != {b}? {a != b}')"
   ]
  },
  {
   "cell_type": "code",
   "execution_count": 30,
   "metadata": {},
   "outputs": [
    {
     "name": "stdout",
     "output_type": "stream",
     "text": [
      "abcde  > abcdf? False\n",
      "abcde  < abcdf? True\n",
      "abcde == abcdf? False\n",
      "abcde >= abcdf? False\n",
      "abcde <= abcdf? True\n",
      "abcde != abcdf? True\n"
     ]
    }
   ],
   "source": [
    "a = 'abcde'\n",
    "b = 'abcdf'\n",
    "\n",
    "# 字串的大小比較是依照字典序，想像它們會在字典出現的先後順序，先出現者較小。\n",
    "print(f'{a}  > {b}? {a > b}')\n",
    "print(f'{a}  < {b}? {a < b}')\n",
    "print(f'{a} == {b}? {a == b}')\n",
    "print(f'{a} >= {b}? {a >= b}')\n",
    "print(f'{a} <= {b}? {a <= b}')\n",
    "print(f'{a} != {b}? {a != b}')"
   ]
  },
  {
   "cell_type": "code",
   "execution_count": 1,
   "metadata": {},
   "outputs": [
    {
     "name": "stdout",
     "output_type": "stream",
     "text": [
      "123456\n",
      "abcdef\n"
     ]
    }
   ],
   "source": [
    "# quiz1:\n",
    "\n",
    "# 給定字串如下，使用 slicing 取出\n",
    "# 整數部分\n",
    "# 字元部分\n",
    "s = '1a2b3c4d5e6f'\n",
    "\n",
    "print(s[0::2])\n",
    "print(s[1::2])"
   ]
  },
  {
   "cell_type": "code",
   "execution_count": null,
   "metadata": {},
   "outputs": [],
   "source": [
    "# quiz2:\n",
    "\n",
    "# 輸入你的身高 (cm)，以及體重 (kg)\n",
    "# 計算 BMI 後以兩位小數點的精準度印出 (BMI = 體重(kg) / (身高(m))^2)\n",
    "height = input()\n",
    "weight = input()"
   ]
  }
 ],
 "metadata": {
  "kernelspec": {
   "display_name": "Python 3",
   "language": "python",
   "name": "python3"
  },
  "language_info": {
   "codemirror_mode": {
    "name": "ipython",
    "version": 3
   },
   "file_extension": ".py",
   "mimetype": "text/x-python",
   "name": "python",
   "nbconvert_exporter": "python",
   "pygments_lexer": "ipython3",
   "version": "3.7.3"
  }
 },
 "nbformat": 4,
 "nbformat_minor": 4
}
